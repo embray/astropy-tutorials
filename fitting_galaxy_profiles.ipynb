{
 "metadata": {
  "name": "fitting_galaxy_profiles"
 },
 "nbformat": 3,
 "nbformat_minor": 0,
 "worksheets": [
  {
   "cells": [
    {
     "cell_type": "heading",
     "level": 1,
     "metadata": {},
     "source": [
      "Fittting Galaxy density profiles with iminuit"
     ]
    },
    {
     "cell_type": "markdown",
     "metadata": {},
     "source": [
      "iminuit ([docs](http://iminuit.github.com/iminuit/), [code](https://github.com/iminuit/iminuit)) is a cool new Python interface to the Minuit optimizer.\n",
      "\n",
      "Here we show how easy it is to define a model, fake some data, define a fit statistic function and crank the machine.\n",
      "\n",
      "* Model: Hubble surface brightness profile and flat background\n",
      "* Data: Unbinned event positions (let's say X-ray photons) distributed according to the model\n",
      "* Fit Statistis: Unbinned log likelihood"
     ]
    },
    {
     "cell_type": "code",
     "collapsed": false,
     "input": [
      "import numpy as np\n",
      "import matplotlib.pyplot as plt\n",
      "%pylab inline\n",
      "import iminuit"
     ],
     "language": "python",
     "metadata": {},
     "outputs": [
      {
       "output_type": "stream",
       "stream": "stdout",
       "text": [
        "\n",
        "Welcome to pylab, a matplotlib-based Python environment [backend: module://IPython.zmq.pylab.backend_inline].\n",
        "For more information, type 'help(pylab)'.\n"
       ]
      }
     ],
     "prompt_number": 2
    },
    {
     "cell_type": "heading",
     "level": 2,
     "metadata": {},
     "source": [
      "Define the model"
     ]
    },
    {
     "cell_type": "markdown",
     "metadata": {},
     "source": [
      "Let's assume we have a source with a Hubble ([reference](http://www.astro.caltech.edu/~aam/science/thesis/total/node20.html)) surface brightness profile on top of flat background on the sky. We assume the source is small, so we can use 2D cartesian corrdinates instead of sky coordinates. The model has five parameters which we'll fit later: `x_0, y_0, sigma_0, r_0, sigma_background`."
     ]
    },
    {
     "cell_type": "code",
     "collapsed": false,
     "input": [
      "def model(x, y, x_0, y_0, sigma_0, r_0, sigma_background):\n",
      "    r = np.sqrt((x - x_0) ** 2 + (y - y_0) ** 2)\n",
      "    return sigma_background + sigma_0 / (1 + r / r_0) ** 2"
     ],
     "language": "python",
     "metadata": {},
     "outputs": [],
     "prompt_number": 3
    },
    {
     "cell_type": "heading",
     "level": 2,
     "metadata": {},
     "source": [
      "Fake some data"
     ]
    },
    {
     "cell_type": "markdown",
     "metadata": {},
     "source": [
      "This is just a toy example to show off Python / iminuit. I don't have any real data, so let's fake some.\n",
      "\n",
      "Actually this is the hardest part, drawing random samples from the 2D model. The method we use here (see below) is brute force, but also simple to implement and very general, i.e. it works with any model and data space, i.e. will scale to realistic applications where analytical integrals or random number generators are not available."
     ]
    },
    {
     "cell_type": "code",
     "collapsed": false,
     "input": [
      "# Example \"true\" model parameters\n",
      "x_0, y_0 = 0, 0 # Source position\n",
      "r_0 = 10 # Source radius in pixels\n",
      "sigma_0 = 100 # Source surface brightness at the center\n",
      "sigma_background = 10 # Background surface brightness (flat distribution)\n",
      "true_pars = (x_0, y_0, sigma_0, r_0, sigma_background)"
     ],
     "language": "python",
     "metadata": {},
     "outputs": [],
     "prompt_number": 4
    },
    {
     "cell_type": "code",
     "collapsed": false,
     "input": [
      "# Simulate binned data on a grid with Poisson fluctuations\n",
      "x_min, x_max = -100, 100\n",
      "y_min, y_max = -80, 80\n",
      "binsize = 0.5\n",
      "xbin, ybin = np.meshgrid(np.arange(x_min, x_max, binsize),\n",
      "                         np.arange(y_min, y_max, binsize))\n",
      "counts = np.random.poisson(model(xbin, ybin, *true_pars))\n",
      "#plt.imshow(counts);\n",
      "# Produce unbinned random event positions from binned counts image\n",
      "xx = xbin.repeat(counts.flatten())\n",
      "yy = ybin.repeat(counts.flatten())\n",
      "xx += np.random.uniform(-0.5, 0.5, xx.size)\n",
      "yy += np.random.uniform(-0.5, 0.5, yy.size)\n",
      "#data = np.vstack([xx, yy])"
     ],
     "language": "python",
     "metadata": {},
     "outputs": [],
     "prompt_number": 5
    },
    {
     "cell_type": "heading",
     "level": 2,
     "metadata": {},
     "source": [
      "Define the Fit Statistic"
     ]
    },
    {
     "cell_type": "code",
     "collapsed": false,
     "input": [
      "def binned_nll(x_0, y_0, sigma_0, r_0, sigma_background):\n",
      "    \"\"\"Binned negative log likelihood fit statistic.\n",
      "    Note that this is a function of the model parameters only,\n",
      "    although to evaluate it the data is used.\"\"\"\n",
      "    mu = model(xbin, ybin, x_0, y_0, sigma_0, r_0, sigma_background)\n",
      "    x = counts\n",
      "    # This is the relevant part of -log(L) for Poisson likelihood L\n",
      "    nll = np.where(mu > 0, -x * np.log(mu) + mu, 1)\n",
      "    return nll.sum()"
     ],
     "language": "python",
     "metadata": {},
     "outputs": [],
     "prompt_number": 6
    },
    {
     "cell_type": "heading",
     "level": 2,
     "metadata": {},
     "source": [
      "Perform the Fit"
     ]
    },
    {
     "cell_type": "code",
     "collapsed": false,
     "input": [
      "start_values = dict(x_0=x_0, y_0=y_0, sigma_0=sigma_0, r_0=r_0, sigma_background=sigma_background)\n",
      "start_errors = dict(error_x_0=0.01, error_y_0=0.01, error_sigma_background=0.01)\n",
      "fixed_parameters = dict(fix_r_0=True, fix_sigma_background=True)\n",
      "pars = dict(start_values.items() + start_errors.items() + fixed_parameters.items())\n",
      "minuit = iminuit.Minuit(binned_nll, pedantic=False, print_level=10, **pars)\n",
      "minuit.print_initial_param()\n",
      "minuit.print_param()\n",
      "#minuit.migrad()\n",
      "#minuit.hesse()"
     ],
     "language": "python",
     "metadata": {},
     "outputs": [
      {
       "html": [
        "\n",
        "        <table>\n",
        "            <tr>\n",
        "                <td></td>\n",
        "                <td>Name</td>\n",
        "                <td>Value</td>\n",
        "                <td>Parab Error</td>\n",
        "                <td>Minos Error-</td>\n",
        "                <td>Minos Error+</td>\n",
        "                <td>Limit-</td>\n",
        "                <td>Limit+</td>\n",
        "                <td>FIXED</td>\n",
        "            </tr>\n",
        "        \n",
        "            <tr>\n",
        "                <td>1</td>\n",
        "                <td>x_0</td>\n",
        "                <td>0.000000e+00</td>\n",
        "                <td>1.000000e-02</td>\n",
        "                <td>0.000000e+00</td>\n",
        "                <td>0.000000e+00</td>\n",
        "                <td></td>\n",
        "                <td></td>\n",
        "                <td></td>\n",
        "            </tr>\n",
        "            \n",
        "            <tr>\n",
        "                <td>2</td>\n",
        "                <td>y_0</td>\n",
        "                <td>0.000000e+00</td>\n",
        "                <td>1.000000e-02</td>\n",
        "                <td>0.000000e+00</td>\n",
        "                <td>0.000000e+00</td>\n",
        "                <td></td>\n",
        "                <td></td>\n",
        "                <td></td>\n",
        "            </tr>\n",
        "            \n",
        "            <tr>\n",
        "                <td>3</td>\n",
        "                <td>sigma_0</td>\n",
        "                <td>1.000000e+02</td>\n",
        "                <td>1.000000e+00</td>\n",
        "                <td>0.000000e+00</td>\n",
        "                <td>0.000000e+00</td>\n",
        "                <td></td>\n",
        "                <td></td>\n",
        "                <td></td>\n",
        "            </tr>\n",
        "            \n",
        "            <tr>\n",
        "                <td>4</td>\n",
        "                <td>r_0</td>\n",
        "                <td>1.000000e+01</td>\n",
        "                <td>1.000000e+00</td>\n",
        "                <td>0.000000e+00</td>\n",
        "                <td>0.000000e+00</td>\n",
        "                <td></td>\n",
        "                <td></td>\n",
        "                <td>FIXED</td>\n",
        "            </tr>\n",
        "            \n",
        "            <tr>\n",
        "                <td>5</td>\n",
        "                <td>sigma_background</td>\n",
        "                <td>1.000000e+01</td>\n",
        "                <td>1.000000e-02</td>\n",
        "                <td>0.000000e+00</td>\n",
        "                <td>0.000000e+00</td>\n",
        "                <td></td>\n",
        "                <td></td>\n",
        "                <td>FIXED</td>\n",
        "            </tr>\n",
        "            \n",
        "            </table>\n",
        "        "
       ],
       "output_type": "display_data"
      },
      {
       "html": [
        "\n",
        "        <table>\n",
        "            <tr>\n",
        "                <td></td>\n",
        "                <td>Name</td>\n",
        "                <td>Value</td>\n",
        "                <td>Parab Error</td>\n",
        "                <td>Minos Error-</td>\n",
        "                <td>Minos Error+</td>\n",
        "                <td>Limit-</td>\n",
        "                <td>Limit+</td>\n",
        "                <td>FIXED</td>\n",
        "            </tr>\n",
        "        \n",
        "            <tr>\n",
        "                <td>1</td>\n",
        "                <td>x_0</td>\n",
        "                <td>0.000000e+00</td>\n",
        "                <td>1.000000e-02</td>\n",
        "                <td>0.000000e+00</td>\n",
        "                <td>0.000000e+00</td>\n",
        "                <td></td>\n",
        "                <td></td>\n",
        "                <td></td>\n",
        "            </tr>\n",
        "            \n",
        "            <tr>\n",
        "                <td>2</td>\n",
        "                <td>y_0</td>\n",
        "                <td>0.000000e+00</td>\n",
        "                <td>1.000000e-02</td>\n",
        "                <td>0.000000e+00</td>\n",
        "                <td>0.000000e+00</td>\n",
        "                <td></td>\n",
        "                <td></td>\n",
        "                <td></td>\n",
        "            </tr>\n",
        "            \n",
        "            <tr>\n",
        "                <td>3</td>\n",
        "                <td>sigma_0</td>\n",
        "                <td>1.000000e+02</td>\n",
        "                <td>1.000000e+00</td>\n",
        "                <td>0.000000e+00</td>\n",
        "                <td>0.000000e+00</td>\n",
        "                <td></td>\n",
        "                <td></td>\n",
        "                <td></td>\n",
        "            </tr>\n",
        "            \n",
        "            <tr>\n",
        "                <td>4</td>\n",
        "                <td>r_0</td>\n",
        "                <td>1.000000e+01</td>\n",
        "                <td>1.000000e+00</td>\n",
        "                <td>0.000000e+00</td>\n",
        "                <td>0.000000e+00</td>\n",
        "                <td></td>\n",
        "                <td></td>\n",
        "                <td>FIXED</td>\n",
        "            </tr>\n",
        "            \n",
        "            <tr>\n",
        "                <td>5</td>\n",
        "                <td>sigma_background</td>\n",
        "                <td>1.000000e+01</td>\n",
        "                <td>1.000000e-02</td>\n",
        "                <td>0.000000e+00</td>\n",
        "                <td>0.000000e+00</td>\n",
        "                <td></td>\n",
        "                <td></td>\n",
        "                <td>FIXED</td>\n",
        "            </tr>\n",
        "            \n",
        "            </table>\n",
        "        "
       ],
       "output_type": "display_data"
      }
     ],
     "prompt_number": 7
    },
    {
     "cell_type": "code",
     "collapsed": false,
     "input": [
      "#migrad = minuit.migrad(ncall=300)"
     ],
     "language": "python",
     "metadata": {},
     "outputs": [],
     "prompt_number": 8
    },
    {
     "cell_type": "code",
     "collapsed": false,
     "input": [
      "minuit.print_param()\n",
      "minuit.errors"
     ],
     "language": "python",
     "metadata": {},
     "outputs": [
      {
       "html": [
        "\n",
        "        <table>\n",
        "            <tr>\n",
        "                <td></td>\n",
        "                <td>Name</td>\n",
        "                <td>Value</td>\n",
        "                <td>Parab Error</td>\n",
        "                <td>Minos Error-</td>\n",
        "                <td>Minos Error+</td>\n",
        "                <td>Limit-</td>\n",
        "                <td>Limit+</td>\n",
        "                <td>FIXED</td>\n",
        "            </tr>\n",
        "        \n",
        "            <tr>\n",
        "                <td>1</td>\n",
        "                <td>x_0</td>\n",
        "                <td>0.000000e+00</td>\n",
        "                <td>1.000000e-02</td>\n",
        "                <td>0.000000e+00</td>\n",
        "                <td>0.000000e+00</td>\n",
        "                <td></td>\n",
        "                <td></td>\n",
        "                <td></td>\n",
        "            </tr>\n",
        "            \n",
        "            <tr>\n",
        "                <td>2</td>\n",
        "                <td>y_0</td>\n",
        "                <td>0.000000e+00</td>\n",
        "                <td>1.000000e-02</td>\n",
        "                <td>0.000000e+00</td>\n",
        "                <td>0.000000e+00</td>\n",
        "                <td></td>\n",
        "                <td></td>\n",
        "                <td></td>\n",
        "            </tr>\n",
        "            \n",
        "            <tr>\n",
        "                <td>3</td>\n",
        "                <td>sigma_0</td>\n",
        "                <td>1.000000e+02</td>\n",
        "                <td>1.000000e+00</td>\n",
        "                <td>0.000000e+00</td>\n",
        "                <td>0.000000e+00</td>\n",
        "                <td></td>\n",
        "                <td></td>\n",
        "                <td></td>\n",
        "            </tr>\n",
        "            \n",
        "            <tr>\n",
        "                <td>4</td>\n",
        "                <td>r_0</td>\n",
        "                <td>1.000000e+01</td>\n",
        "                <td>1.000000e+00</td>\n",
        "                <td>0.000000e+00</td>\n",
        "                <td>0.000000e+00</td>\n",
        "                <td></td>\n",
        "                <td></td>\n",
        "                <td>FIXED</td>\n",
        "            </tr>\n",
        "            \n",
        "            <tr>\n",
        "                <td>5</td>\n",
        "                <td>sigma_background</td>\n",
        "                <td>1.000000e+01</td>\n",
        "                <td>1.000000e-02</td>\n",
        "                <td>0.000000e+00</td>\n",
        "                <td>0.000000e+00</td>\n",
        "                <td></td>\n",
        "                <td></td>\n",
        "                <td>FIXED</td>\n",
        "            </tr>\n",
        "            \n",
        "            </table>\n",
        "        "
       ],
       "output_type": "display_data"
      },
      {
       "output_type": "pyout",
       "prompt_number": 9,
       "text": [
        "{'r_0': 1.0,\n",
        " 'sigma_0': 1.0,\n",
        " 'sigma_background': 0.01,\n",
        " 'x_0': 0.01,\n",
        " 'y_0': 0.01}"
       ]
      }
     ],
     "prompt_number": 9
    },
    {
     "cell_type": "code",
     "collapsed": false,
     "input": [
      "minuit.fitarg"
     ],
     "language": "python",
     "metadata": {},
     "outputs": [
      {
       "output_type": "pyout",
       "prompt_number": 10,
       "text": [
        "{'error_r_0': 1.0,\n",
        " 'error_sigma_0': 1.0,\n",
        " 'error_sigma_background': 0.01,\n",
        " 'error_x_0': 0.01,\n",
        " 'error_y_0': 0.01,\n",
        " 'fix_r_0': True,\n",
        " 'fix_sigma_0': False,\n",
        " 'fix_sigma_background': True,\n",
        " 'fix_x_0': False,\n",
        " 'fix_y_0': False,\n",
        " 'limit_r_0': None,\n",
        " 'limit_sigma_0': None,\n",
        " 'limit_sigma_background': None,\n",
        " 'limit_x_0': None,\n",
        " 'limit_y_0': None,\n",
        " 'r_0': 10,\n",
        " 'sigma_0': 100,\n",
        " 'sigma_background': 10,\n",
        " 'x_0': 0,\n",
        " 'y_0': 0}"
       ]
      }
     ],
     "prompt_number": 10
    }
   ],
   "metadata": {}
  }
 ]
}