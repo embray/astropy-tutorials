{
 "metadata": {
  "name": "astropy_time_tutorial"
 },
 "nbformat": 3,
 "nbformat_minor": 0,
 "worksheets": [
  {
   "cells": [
    {
     "cell_type": "heading",
     "level": 1,
     "metadata": {},
     "source": [
      "Understanding astronomical time scales with astropy.time"
     ]
    },
    {
     "cell_type": "markdown",
     "metadata": {},
     "source": [
      "Recently [Tom Aldcroft](http://hea-www.harvard.edu/~aldcroft/) implemented [astropy.time](http://docs.astropy.org/en/latest/time/index.html), a [Python programming language](www.python.org) package that makes it easy to work with astronomical time scales and formats.\n",
      "\n",
      "In this tutorial we will explore some aspects of astronomical time scales in the interactive [IPython notebook](http://ipython.org/ipython-doc/dev/interactive/htmlnotebook.html). You should start by reading the excellent [`astropy.time` documentation on time scales](http://docs.astropy.org/en/latest/time/index.html#time-scale) as well as the links given there, then come back here."
     ]
    },
    {
     "cell_type": "code",
     "collapsed": false,
     "input": [
      "# The code below assumes you have executed these imports\n",
      "import astropy.time\n",
      "# Normal users will only need the Time and TimeDelta class,\n",
      "# so we import these into the global namespace so that\n",
      "# we don't have to type astopy.time.Time each time.\n",
      "from astropy.time import Time, TimeDelta"
     ],
     "language": "python",
     "metadata": {},
     "outputs": [],
     "prompt_number": 11
    },
    {
     "cell_type": "heading",
     "level": 2,
     "metadata": {},
     "source": [
      "astropy.time code and documentation"
     ]
    },
    {
     "cell_type": "markdown",
     "metadata": {},
     "source": [
      "At some point you might get some result (or a warning or error) from `astropy.time` that you don't understand. Understanding how `astropy.time` is implemented and being able to find the point of interest in the code and documentation might help you figure out what is going on yourself. Feel free to skip this optional section until you run in a problem yourself.\n",
      "\n",
      "[`astropy.time`](https://github.com/astropy/astropy/tree/master/astropy/time) is a [Cython language](http://www.cython.org/) wrapper around the [C language](http://en.wikipedia.org/wiki/C_(programming_language)) [SOFA library](http://www.iausofa.org/current_C.html).\n",
      "You can read the python part of the wrapper [astropy/time/core.py](https://github.com/astropy/astropy/blob/master/astropy/time/core.py) (~ 1000 lines of code) on [github](https://github.com/). It contains the definition of the [`Time`](http://docs.astropy.org/en/latest/_generated/astropy.time.core.Time.html), [`TimeDelta`](http://docs.astropy.org/en/latest/_generated/astropy.time.core.TimeDelta.html) and other classes. To be able to [convert between any of the time scales](http://docs.astropy.org/en/latest/time/index.html#convert-time-scale), a dictionary called `MULTI_HOPS` is defined that contains entries like `('tdb', 'ut1'): ('tt', 'tai', 'utc')`, which mean to convert e.g. from `'tdb'` to `'ut1'`, first `'tdb'` is converted to `'tt'`, then to `'tai'`, then to `'utc'` and finally to `'ut1'`.\n",
      "\n",
      "The cython part of the wrapper is [astropy/time/sofa_time.pyx](https://github.com/astropy/astropy/blob/master/astropy/time/sofa_time.pyx) (~ 1500 lines of code). For each SOFA C function used by `astropy.time` (e.g. `iauUt1utc`) there is a Cython wrapper function (e.g. `utc_tai`), whose purpose is to\n",
      "\n",
      "* Convert python numerical data types to C data types\n",
      "* Loop over all elements in case the input is an array\n",
      "* Convert return warning and error codes to strings and python constants\n",
      "* Make the function documentation accessible from the interactive python prompt.\n",
      "\n",
      "As an example, here is the `utc_tai` wrapper:\n",
      "\n",
      "    @cython.wraparound(False)\n",
      "    @cython.boundscheck(False)\n",
      "    def utc_tai( \n",
      "        np.ndarray[double, ndim=1] in1,\n",
      "        np.ndarray[double, ndim=1] in2):\n",
      "        \"\"\"\n",
      "        int iauUtctai(double utc1, double utc2, double *tai1, double *tai2)\n",
      "    \n",
      "        **  Given:\n",
      "        **     utc1,utc2  double   UTC as a 2-part quasi Julian Date (Notes 1-4)\n",
      "        **\n",
      "        **  Returned:\n",
      "        **     tai1,tai2  double   TAI as a 2-part Julian Date (Note 5)\n",
      "        **\n",
      "        **  Returned (function value):\n",
      "        **                int      status: +1 = dubious year (Note 3)\n",
      "        **                                  0 = OK\n",
      "        **                                 -1 = unacceptable date\n",
      "        **\n",
      "        **  Notes:\n",
      "        **\n",
      "        **  1) utc1+utc2 is quasi Julian Date (see Note 2), apportioned in any\n",
      "        **     convenient way between the two arguments, for example where utc1\n",
      "        **     is the Julian Day Number and utc2 is the fraction of a day.\n",
      "        **\n",
      "        **  2) JD cannot unambiguously represent UTC during a leap second unless\n",
      "        **     special measures are taken.  The convention in the present\n",
      "        **     function is that the JD day represents UTC days whether the\n",
      "        **     length is 86399, 86400 or 86401 SI seconds.\n",
      "        **\n",
      "        **  3) The warning status \"dubious year\" flags UTCs that predate the\n",
      "        **     introduction of the time scale and that are too far in the future\n",
      "        **     to be trusted.  See iauDat  for further details.\n",
      "        **\n",
      "        **  4) The function iauDtf2d converts from calendar date and time of day\n",
      "        **     into 2-part Julian Date, and in the case of UTC implements the\n",
      "        **     leap-second-ambiguity convention described above.\n",
      "        **\n",
      "        **  5) The returned TAI1,TAI2 are such that their sum is the TAI Julian\n",
      "        **     Date.\n",
      "        **\n",
      "        \"\"\"\n",
      "        assert in1.shape[0] == in2.shape[0]\n",
      "        cdef unsigned n = in1.shape[0]\n",
      "        cdef unsigned int i\n",
      "        cdef np.ndarray[double, ndim=1] out1 = np.empty(n, dtype=np.double)\n",
      "        cdef np.ndarray[double, ndim=1] out2 = np.empty(n, dtype=np.double)\n",
      "    \n",
      "        warns = {1: DUBIOUS}\n",
      "        errs = {-1: 'unacceptable date'}\n",
      "    \n",
      "        for i in range(n):\n",
      "            ret = iauUtctai(in1[i], in2[i], &out1[i], &out2[i])\n",
      "            check_return(ret, 'iauUtctai', warns, errs)\n",
      "    \n",
      "        return out1, out2\n",
      "\n",
      "The actual implementation of the SOFA time functions is in [cextern/sofa/sofa.c](https://raw.github.com/astropy/astropy/master/cextern/sofa/sofa.c) (50,000 lines of C code). E.g. you can search in your browser or editor for `iauUtctai` and you can read the implementation starting at line 45,311. Unless you have lots or time and are an expert, though, this is overkill and you can find out all the information you need from the [html documenation](http://docs.astropy.org/en/latest/time/index.html) or the interactive python prompt:"
     ]
    },
    {
     "cell_type": "code",
     "collapsed": false,
     "input": [
      "print(dir(astropy.time))"
     ],
     "language": "python",
     "metadata": {},
     "outputs": [
      {
       "output_type": "stream",
       "stream": "stdout",
       "text": [
        "['OperandTypeError', 'ScaleValueError', 'TIME_DELTA_FORMATS', 'TIME_DELTA_SCALES', 'TIME_FORMATS', 'TIME_SCALES', 'Time', 'TimeBesselianEpoch', 'TimeBesselianEpochString', 'TimeCxcSec', 'TimeDelta', 'TimeDeltaFormat', 'TimeDeltaJD', 'TimeDeltaSec', 'TimeEpochDate', 'TimeEpochDateString', 'TimeFormat', 'TimeFromEpoch', 'TimeISO', 'TimeISOT', 'TimeJD', 'TimeJulianEpoch', 'TimeJulianEpochString', 'TimeMJD', 'TimeString', 'TimeUnix', 'TimeYearDayTime', '__builtins__', '__doc__', '__file__', '__name__', '__package__', '__path__', 'core', 'sofa_time']\n"
       ]
      }
     ],
     "prompt_number": 24
    },
    {
     "cell_type": "code",
     "collapsed": false,
     "input": [
      "print(dir(astropy.time.sofa_time))"
     ],
     "language": "python",
     "metadata": {},
     "outputs": [
      {
       "output_type": "stream",
       "stream": "stdout",
       "text": [
        "['DUBIOUS', '__builtins__', '__doc__', '__file__', '__name__', '__package__', '__test__', 'besselian_epoch_jd', 'cal2jd', 'check_return', 'd_tai_utc', 'd_tdb_tt', 'dtf_jd', 'iau_af2a', 'iau_gd2gc', 'jd_besselian_epoch', 'jd_dtf', 'jd_julian_epoch', 'julian_epoch_jd', 'np', 'tai_tt', 'tai_ut1', 'tai_utc', 'tcb_tdb', 'tcg_tt', 'tdb_tcb', 'tdb_tt', 'tt_tai', 'tt_tcg', 'tt_tdb', 'tt_ut1', 'ut1_tai', 'ut1_tt', 'ut1_utc', 'utc_tai', 'utc_ut1', 'warnings']\n"
       ]
      }
     ],
     "prompt_number": 21
    },
    {
     "cell_type": "code",
     "collapsed": false,
     "input": [
      "help(astropy.time)"
     ],
     "language": "python",
     "metadata": {},
     "outputs": [
      {
       "output_type": "stream",
       "stream": "stdout",
       "text": [
        "Help on package astropy.time in astropy:\n",
        "\n",
        "NAME\n",
        "    astropy.time\n",
        "\n",
        "FILE\n",
        "    /Users/deil/Library/Python/2.7/lib/python/site-packages/astropy-0.2.dev1650-py2.7-macosx-10.7-x86_64.egg/astropy/time/__init__.py\n",
        "\n",
        "PACKAGE CONTENTS\n",
        "    core\n",
        "    setup_package\n",
        "    sofa_time\n",
        "    tests (package)\n",
        "\n",
        "DATA\n",
        "    TIME_DELTA_FORMATS = {'jd': <class 'astropy.time.core.TimeDeltaJD'>, '...\n",
        "    TIME_DELTA_SCALES = ('tai',)\n",
        "    TIME_FORMATS = {'byear': <class 'astropy.time.core.TimeBesselianEpoch'...\n",
        "    TIME_SCALES = ('tai', 'tcb', 'tcg', 'tdb', 'tt', 'ut1', 'utc')\n",
        "\n",
        "\n"
       ]
      }
     ],
     "prompt_number": 25
    },
    {
     "cell_type": "code",
     "collapsed": false,
     "input": [
      "help(astropy.time.Time)"
     ],
     "language": "python",
     "metadata": {},
     "outputs": [
      {
       "output_type": "stream",
       "stream": "stdout",
       "text": [
        "Help on class Time in module astropy.time.core:\n",
        "\n",
        "class Time(__builtin__.object)\n",
        " |  Represent and manipulate times and dates for astronomy.\n",
        " |  \n",
        " |  A Time object is initialized with one or more times in the ``val``\n",
        " |  argument.  The input times in ``val`` must conform to the specified\n",
        " |  ``format`` and must correspond to the specified time ``scale``.  The\n",
        " |  optional ``val2`` time input should be supplied only for numeric input\n",
        " |  formats (e.g. JD) where very high precision (better than 64-bit precision)\n",
        " |  is required.\n",
        " |  \n",
        " |  Parameters\n",
        " |  ----------\n",
        " |  val : sequence, str, or number\n",
        " |      Value(s) to initialize the time or times\n",
        " |  val2 : sequence, str, or number; optional\n",
        " |      Value(s) to initialize the time or times\n",
        " |  format : str, optional\n",
        " |      Format of input value(s)\n",
        " |  scale : str, optional\n",
        " |      Time scale of input value(s)\n",
        " |  opt : dict, optional\n",
        " |      options\n",
        " |  lat : float, optional\n",
        " |      Earth latitude of observer (decimal degrees)\n",
        " |  lon : float, optional\n",
        " |      Earth longitude of observer (decimal degrees)\n",
        " |  copy : bool, optional\n",
        " |      Make a copy of the input values\n",
        " |  \n",
        " |  Methods defined here:\n",
        " |  \n",
        " |  __add__(self, other)\n",
        " |  \n",
        " |  __getattr__(self, attr)\n",
        " |      Get dynamic attributes to output format or do timescale conversion.\n",
        " |  \n",
        " |  __init__(self, val, val2=None, format=None, scale=None, precision=None, in_subfmt=None, out_subfmt=None, lat=0.0, lon=0.0, copy=False)\n",
        " |  \n",
        " |  __len__(self)\n",
        " |  \n",
        " |  __repr__(self)\n",
        " |  \n",
        " |  __str__(self)\n",
        " |  \n",
        " |  __sub__(self, other)\n",
        " |  \n",
        " |  copy(self, format=None)\n",
        " |      Return a fully independent copy the Time object, optionally changing\n",
        " |      the format.\n",
        " |      \n",
        " |      If ``format`` is supplied then the time format of the returned Time\n",
        " |      object will be set accordingly, otherwise it will be unchanged from the\n",
        " |      original.\n",
        " |      \n",
        " |      In this method a full copy of the internal time arrays will be made.\n",
        " |      The internal time arrays are normally not changeable by the user so in\n",
        " |      most cases the ``replicate()`` method should be used.\n",
        " |      \n",
        " |      Parameters\n",
        " |      ----------\n",
        " |      format : str, optional\n",
        " |          Time format of the copy.\n",
        " |      \n",
        " |      Returns\n",
        " |      -------\n",
        " |      tm: Time object\n",
        " |          Copy of this object\n",
        " |  \n",
        " |  replicate(self, format=None, copy=False)\n",
        " |      Return a replica of the Time object, optionally changing the format.\n",
        " |      \n",
        " |      If ``format`` is supplied then the time format of the returned Time\n",
        " |      object will be set accordingly, otherwise it will be unchanged from the\n",
        " |      original.\n",
        " |      \n",
        " |      If ``copy`` is set to True then a full copy of the internal time arrays\n",
        " |      will be made.  By default the replica will use a reference to the\n",
        " |      original arrays when possible to save memory.  The internal time arrays\n",
        " |      are normally not changeable by the user so in most cases it should not\n",
        " |      be necessary to set ``copy`` to True.\n",
        " |      \n",
        " |      The convenience method copy() is available in which ``copy`` is True\n",
        " |      by default.\n",
        " |      \n",
        " |      Parameters\n",
        " |      ----------\n",
        " |      format : str, optional\n",
        " |          Time format of the replica.\n",
        " |      copy : bool, optional\n",
        " |          Return a true copy instead of using references where possible.\n",
        " |      \n",
        " |      Returns\n",
        " |      -------\n",
        " |      tm: Time object\n",
        " |          Replica of this object\n",
        " |  \n",
        " |  ----------------------------------------------------------------------\n",
        " |  Data descriptors defined here:\n",
        " |  \n",
        " |  __dict__\n",
        " |      dictionary for instance variables (if defined)\n",
        " |  \n",
        " |  __weakref__\n",
        " |      list of weak references to the object (if defined)\n",
        " |  \n",
        " |  delta_tdb_tt\n",
        " |  \n",
        " |  delta_ut1_utc\n",
        " |      Get SOFA DUT arg = UT1 - UTC.  This getter takes optional jd1 and\n",
        " |      jd2 args because it gets called that way when converting time scales.\n",
        " |      The current code ignores these, but when the IERS table is interpolated\n",
        " |      by this module they will be used.\n",
        " |  \n",
        " |  format\n",
        " |      Time format\n",
        " |  \n",
        " |  in_subfmt\n",
        " |      Unix wildcard pattern to select subformats for parsing string input\n",
        " |      times\n",
        " |  \n",
        " |  jd1\n",
        " |      First of the two doubles that internally store time value(s) in JD\n",
        " |  \n",
        " |  jd2\n",
        " |      Second of the two doubles that internally store time value(s) in JD\n",
        " |  \n",
        " |  out_subfmt\n",
        " |      Unix wildcard pattern to select subformats for outputting times\n",
        " |  \n",
        " |  precision\n",
        " |      Decimal precision when outputting seconds as floating point (int\n",
        " |      value between 0 and 9 inclusive).\n",
        " |  \n",
        " |  scale\n",
        " |      Time scale\n",
        " |  \n",
        " |  val\n",
        " |      Time value(s) in current format\n",
        " |  \n",
        " |  vals\n",
        " |      Time values in current format as a numpy array\n",
        " |  \n",
        " |  ----------------------------------------------------------------------\n",
        " |  Data and other attributes defined here:\n",
        " |  \n",
        " |  FORMATS = {'byear': <class 'astropy.time.core.TimeBesselianEpoch'>, 'b...\n",
        " |  \n",
        " |  SCALES = ('tai', 'tcb', 'tcg', 'tdb', 'tt', 'ut1', 'utc')\n",
        "\n"
       ]
      }
     ],
     "prompt_number": 26
    },
    {
     "cell_type": "code",
     "collapsed": false,
     "input": [
      "help(astropy.time.sofa_time.tai_utc)"
     ],
     "language": "python",
     "metadata": {},
     "outputs": [
      {
       "output_type": "stream",
       "stream": "stdout",
       "text": [
        "Help on built-in function tai_utc in module astropy.time.sofa_time:\n",
        "\n",
        "tai_utc(...)\n",
        "    int iauTaiutc(double tai1, double tai2, double *utc1, double *utc2)\n",
        "    \n",
        "    **  Given:\n",
        "    **     tai1,tai2  double   TAI as a 2-part Julian Date (Note 1)\n",
        "    **\n",
        "    **  Returned:\n",
        "    **     utc1,utc2  double   UTC as a 2-part quasi Julian Date (Notes 1-3)\n",
        "    **\n",
        "    **  Returned (function value):\n",
        "    **                int      status: +1 = dubious year (Note 4)\n",
        "    **                                  0 = OK\n",
        "    **                                 -1 = unacceptable date\n",
        "    **\n",
        "    **  Notes:\n",
        "    **\n",
        "    **  1) tai1+tai2 is Julian Date, apportioned in any convenient way\n",
        "    **     between the two arguments, for example where tai1 is the Julian\n",
        "    **     Day Number and tai2 is the fraction of a day.  The returned utc1\n",
        "    **     and utc2 form an analogous pair, except that a special convention\n",
        "    **     is used, to deal with the problem of leap seconds - see the next\n",
        "    **     note.\n",
        "    **\n",
        "    **  2) JD cannot unambiguously represent UTC during a leap second unless\n",
        "    **     special measures are taken.  The convention in the present\n",
        "    **     function is that the JD day represents UTC days whether the\n",
        "    **     length is 86399, 86400 or 86401 SI seconds.\n",
        "    **\n",
        "    **  3) The function iauD2dtf can be used to transform the UTC quasi-JD\n",
        "    **     into calendar date and clock time, including UTC leap second\n",
        "    **     handling.\n",
        "    **\n",
        "    **  4) The warning status \"dubious year\" flags UTCs that predate the\n",
        "    **     introduction of the time scale and that are too far in the future\n",
        "    **     to be trusted.  See iauDat for further details.\n",
        "\n"
       ]
      }
     ],
     "prompt_number": 27
    },
    {
     "cell_type": "heading",
     "level": 2,
     "metadata": {},
     "source": [
      "Basics"
     ]
    },
    {
     "cell_type": "markdown",
     "metadata": {},
     "source": [
      "\n",
      "\n",
      "[SOFA Time Scale and Calender Tools](http://www.iausofa.org/2012_0301_C/sofa/sofa_ts_c.pdf). The\n",
      "\n",
      "\n",
      "\n",
      "Other python modules that have some functionality"
     ]
    },
    {
     "cell_type": "code",
     "collapsed": false,
     "input": [
      "import astropy.time"
     ],
     "language": "python",
     "metadata": {},
     "outputs": [],
     "prompt_number": 1
    },
    {
     "cell_type": "code",
     "collapsed": false,
     "input": [
      "astropy.time.sofa_time.besselian_epoch_jd?"
     ],
     "language": "python",
     "metadata": {},
     "outputs": [],
     "prompt_number": 8
    }
   ],
   "metadata": {}
  }
 ]
}