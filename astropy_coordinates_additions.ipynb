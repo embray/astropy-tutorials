{
 "metadata": {
  "name": "astroph_coordinates_additions"
 },
 "nbformat": 3,
 "nbformat_minor": 0,
 "worksheets": [
  {
   "cells": [
    {
     "cell_type": "code",
     "collapsed": false,
     "input": [
      "import astropy.coordinates\n",
      "from astropy.coordinates import FK5Coordinates, GalacticCoordinates, Angle\n",
      "from astropy.coordinates.angles import rotation_matrix\n",
      "import astropy.units as u"
     ],
     "language": "python",
     "metadata": {},
     "outputs": [],
     "prompt_number": 24
    },
    {
     "cell_type": "code",
     "collapsed": false,
     "input": [
      "#http://stackoverflow.com/questions/6802577/python-rotation-of-3d-vector\n",
      "\n",
      "import numpy as np\n",
      "\n",
      "def rotation_matrix(axis,theta):\n",
      "    axis = axis/np.sqrt(np.dot(axis,axis))\n",
      "    a = np.cos(theta/2)\n",
      "    b,c,d = -axis*np.sin(theta/2)\n",
      "    return np.array([[a*a+b*b-c*c-d*d, 2*(b*c-a*d), 2*(b*d+a*c)],\n",
      "                     [2*(b*c+a*d), a*a+c*c-b*b-d*d, 2*(c*d-a*b)],\n",
      "                     [2*(b*d-a*c), 2*(c*d+a*b), a*a+d*d-b*b-c*c]])\n",
      "\n",
      "v = np.array([3,5,0])\n",
      "axis = np.array([4,4,1])\n",
      "theta = 1.2 \n",
      "\n",
      "matrix = rotation_matrix(axis,theta)\n",
      "v_rotated = np.dot(matrix, v)\n",
      "print(matrix)\n",
      "print(v_rotated)"
     ],
     "language": "python",
     "metadata": {},
     "outputs": [
      {
       "output_type": "stream",
       "stream": "stdout",
       "text": [
        "[[ 0.67151763  0.47140706 -0.57169875]\n",
        " [ 0.1469127   0.67151763  0.72627869]\n",
        " [ 0.72627869 -0.57169875  0.38168025]]\n",
        "[ 4.37158817  3.79832625 -0.67965768]\n"
       ]
      }
     ],
     "prompt_number": 28
    },
    {
     "cell_type": "code",
     "collapsed": false,
     "input": [
      "\n",
      "def rotate(point, center, angle):\n",
      "    \"\"\"Rotate point around center by a given angle\n",
      "\n",
      "    point: astropy.coordinates.SphericalCoordinatesBase\n",
      "    center: astropy.coordinates.SphericalCoordinatesBase\n",
      "    angle: astropy.coordinates.Angle\n",
      "    \"\"\"\n",
      "    from copy import copy\n",
      "    import numpy as np\n",
      "    from astropy.coordinates.angles import rotation_matrix\n",
      "    from astropy.coordinates import CartesianPoints\n",
      "    # Compute the rotation axis vector in the point system\n",
      "    a = center.transform_to(point.__class__).cartesian\n",
      "    axis = np.array([a.x, a.y, a.z])\n",
      "    # Compute the rotation matrix\n",
      "    R = rotation_matrix(angle.radians, axis)\n",
      "    # Convert point to a cartesian vector\n",
      "    p = point.cartesian\n",
      "    v = np.array([p.x, p.y, p.z])\n",
      "    # Rotate\n",
      "    w = np.dot(R, v)\n",
      "    w = np.array(w)[0]\n",
      "    # Convert rotated point back to spherical coordinates\n",
      "    s = CartesianPoints(w[0], w[1], w[2])\n",
      "    lat, lon = s.to_spherical()[1:]\n",
      "    # Create a new coordinate object\n",
      "    rotated_point = copy(point)\n",
      "    # Set the rotated coordinates\n",
      "    rotated_point.lonangle = lon\n",
      "    rotated_point.latangle = latangle\n",
      "    # Done\n",
      "    return rotated_point\n",
      "\n",
      "def test_rotate():\n",
      "    from astropy.coordinates import GalacticCoordinates, Angle\n",
      "    point = GalacticCoordinates(10, 0, unit='deg')\n",
      "    center = GalacticCoordinates(0, 0, unit='deg').fk5\n",
      "    angle = Angle(90, 'deg')\n",
      "    rotated_point = rotate(point, center, angle)\n",
      "    print point\n",
      "    print center\n",
      "    print angle\n",
      "    print rotated_point\n",
      "\n",
      "    \n",
      "test_rotate()"
     ],
     "language": "python",
     "metadata": {},
     "outputs": [
      {
       "ename": "AttributeError",
       "evalue": "can't set attribute",
       "output_type": "pyerr",
       "traceback": [
        "\u001b[0;31m---------------------------------------------------------------------------\u001b[0m\n\u001b[0;31mAttributeError\u001b[0m                            Traceback (most recent call last)",
        "\u001b[0;32m<ipython-input-76-3f025a01246c>\u001b[0m in \u001b[0;36m<module>\u001b[0;34m()\u001b[0m\n\u001b[1;32m     45\u001b[0m \u001b[0;34m\u001b[0m\u001b[0m\n\u001b[1;32m     46\u001b[0m \u001b[0;34m\u001b[0m\u001b[0m\n\u001b[0;32m---> 47\u001b[0;31m \u001b[0mtest_rotate\u001b[0m\u001b[0;34m(\u001b[0m\u001b[0;34m)\u001b[0m\u001b[0;34m\u001b[0m\u001b[0m\n\u001b[0m",
        "\u001b[0;32m<ipython-input-76-3f025a01246c>\u001b[0m in \u001b[0;36mtest_rotate\u001b[0;34m()\u001b[0m\n\u001b[1;32m     38\u001b[0m     \u001b[0mcenter\u001b[0m \u001b[0;34m=\u001b[0m \u001b[0mGalacticCoordinates\u001b[0m\u001b[0;34m(\u001b[0m\u001b[0;36m0\u001b[0m\u001b[0;34m,\u001b[0m \u001b[0;36m0\u001b[0m\u001b[0;34m,\u001b[0m \u001b[0munit\u001b[0m\u001b[0;34m=\u001b[0m\u001b[0;34m'deg'\u001b[0m\u001b[0;34m)\u001b[0m\u001b[0;34m.\u001b[0m\u001b[0mfk5\u001b[0m\u001b[0;34m\u001b[0m\u001b[0m\n\u001b[1;32m     39\u001b[0m     \u001b[0mangle\u001b[0m \u001b[0;34m=\u001b[0m \u001b[0mAngle\u001b[0m\u001b[0;34m(\u001b[0m\u001b[0;36m90\u001b[0m\u001b[0;34m,\u001b[0m \u001b[0;34m'deg'\u001b[0m\u001b[0;34m)\u001b[0m\u001b[0;34m\u001b[0m\u001b[0m\n\u001b[0;32m---> 40\u001b[0;31m     \u001b[0mrotated_point\u001b[0m \u001b[0;34m=\u001b[0m \u001b[0mrotate\u001b[0m\u001b[0;34m(\u001b[0m\u001b[0mpoint\u001b[0m\u001b[0;34m,\u001b[0m \u001b[0mcenter\u001b[0m\u001b[0;34m,\u001b[0m \u001b[0mangle\u001b[0m\u001b[0;34m)\u001b[0m\u001b[0;34m\u001b[0m\u001b[0m\n\u001b[0m\u001b[1;32m     41\u001b[0m     \u001b[0;32mprint\u001b[0m \u001b[0mpoint\u001b[0m\u001b[0;34m\u001b[0m\u001b[0m\n\u001b[1;32m     42\u001b[0m     \u001b[0;32mprint\u001b[0m \u001b[0mcenter\u001b[0m\u001b[0;34m\u001b[0m\u001b[0m\n",
        "\u001b[0;32m<ipython-input-76-3f025a01246c>\u001b[0m in \u001b[0;36mrotate\u001b[0;34m(point, center, angle)\u001b[0m\n\u001b[1;32m     28\u001b[0m     \u001b[0mrotated_point\u001b[0m \u001b[0;34m=\u001b[0m \u001b[0mcopy\u001b[0m\u001b[0;34m(\u001b[0m\u001b[0mpoint\u001b[0m\u001b[0;34m)\u001b[0m\u001b[0;34m\u001b[0m\u001b[0m\n\u001b[1;32m     29\u001b[0m     \u001b[0;31m# Set the rotated coordinates\u001b[0m\u001b[0;34m\u001b[0m\u001b[0;34m\u001b[0m\u001b[0m\n\u001b[0;32m---> 30\u001b[0;31m     \u001b[0mrotated_point\u001b[0m\u001b[0;34m.\u001b[0m\u001b[0mlonangle\u001b[0m \u001b[0;34m=\u001b[0m \u001b[0mlon\u001b[0m\u001b[0;34m\u001b[0m\u001b[0m\n\u001b[0m\u001b[1;32m     31\u001b[0m     \u001b[0mrotated_point\u001b[0m\u001b[0;34m.\u001b[0m\u001b[0mlatangle\u001b[0m \u001b[0;34m=\u001b[0m \u001b[0mlatangle\u001b[0m\u001b[0;34m\u001b[0m\u001b[0m\n\u001b[1;32m     32\u001b[0m     \u001b[0;31m# Done\u001b[0m\u001b[0;34m\u001b[0m\u001b[0;34m\u001b[0m\u001b[0m\n",
        "\u001b[0;31mAttributeError\u001b[0m: can't set attribute"
       ]
      },
      {
       "output_type": "stream",
       "stream": "stdout",
       "text": [
        "\u001b[0;31mERROR\u001b[0m: AttributeError: can't set attribute [IPython.core.interactiveshell]\n"
       ]
      }
     ],
     "prompt_number": 76
    },
    {
     "cell_type": "code",
     "collapsed": false,
     "input": [
      "astropy.coordinates."
     ],
     "language": "python",
     "metadata": {},
     "outputs": []
    },
    {
     "cell_type": "code",
     "collapsed": false,
     "input": [
      "center = GalacticCoordinates(0, 0, unit='deg').fk5"
     ],
     "language": "python",
     "metadata": {},
     "outputs": [],
     "prompt_number": 13
    },
    {
     "cell_type": "code",
     "collapsed": false,
     "input": [
      "a = np.array([[ 0.98480775,  0.17358292,  0.00476007]])"
     ],
     "language": "python",
     "metadata": {},
     "outputs": [],
     "prompt_number": 65
    },
    {
     "cell_type": "code",
     "collapsed": false,
     "input": [
      "v = [c.x, c.y, c.z]"
     ],
     "language": "python",
     "metadata": {},
     "outputs": [],
     "prompt_number": 33
    },
    {
     "cell_type": "code",
     "collapsed": false,
     "input": [
      "np.dot(v, v)"
     ],
     "language": "python",
     "metadata": {},
     "outputs": [
      {
       "output_type": "pyout",
       "prompt_number": 34,
       "text": [
        "1.0"
       ]
      }
     ],
     "prompt_number": 34
    },
    {
     "cell_type": "code",
     "collapsed": false,
     "input": [
      "a.reshape((3,)"
     ],
     "language": "python",
     "metadata": {},
     "outputs": [
      {
       "ename": "SyntaxError",
       "evalue": "unexpected EOF while parsing (<ipython-input-69-e32b80fcad57>, line 1)",
       "output_type": "pyerr",
       "traceback": [
        "\u001b[0;36m  File \u001b[0;32m\"<ipython-input-69-e32b80fcad57>\"\u001b[0;36m, line \u001b[0;32m1\u001b[0m\n\u001b[0;31m    a.reshape((3,)\u001b[0m\n\u001b[0m                  ^\u001b[0m\n\u001b[0;31mSyntaxError\u001b[0m\u001b[0;31m:\u001b[0m unexpected EOF while parsing\n"
       ]
      }
     ],
     "prompt_number": 69
    },
    {
     "cell_type": "code",
     "collapsed": false,
     "input": [
      "c??"
     ],
     "language": "python",
     "metadata": {},
     "outputs": [],
     "prompt_number": 51
    },
    {
     "cell_type": "code",
     "collapsed": false,
     "input": [
      "whos"
     ],
     "language": "python",
     "metadata": {},
     "outputs": [
      {
       "output_type": "stream",
       "stream": "stdout",
       "text": [
        "Variable                Type               Data/Info\n",
        "----------------------------------------------------\n",
        "Angle                   type               <class 'astropy.coordinates.angles.Angle'>\n",
        "FK5Coordinates          ABCMeta            <class 'astropy.coordinat<...>_systems.FK5Coordinates'>\n",
        "GalacticCoordinates     ABCMeta            <class 'astropy.coordinat<...>ems.GalacticCoordinates'>\n",
        "a                       ndarray            1x3: 3 elems, type `float64`, 24 bytes\n",
        "astropy                 module             <module 'astropy' from '/<...>es/astropy/__init__.pyc'>\n",
        "c                       CartesianPoints    <CartesianPoints (-0.0548<...>3, -0.483835686449) None>\n",
        "center                  FK5Coordinates     <FK5Coordinates RA=266.40<...>3 deg, Dec=-28.93622 deg>\n",
        "rotate                  function           <function rotate at 0x103e75578>\n",
        "rotation_matrix         function           <function rotation_matrix at 0x103c5a320>\n",
        "rotation_matrix_numpy   function           <function rotation_matrix_numpy at 0x103d5b938>\n",
        "test_rotate             function           <function test_rotate at 0x103e755f0>\n",
        "theta                   float              1.2\n",
        "u                       module             <module 'astropy.units' f<...>ropy/units/__init__.pyc'>\n",
        "v                       list               n=3\n",
        "v_rotated               ndarray            3: 3 elems, type `float64`, 24 bytes\n"
       ]
      }
     ],
     "prompt_number": 73
    },
    {
     "cell_type": "code",
     "collapsed": false,
     "input": [],
     "language": "python",
     "metadata": {},
     "outputs": []
    }
   ],
   "metadata": {}
  }
 ]
}