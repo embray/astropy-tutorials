{
 "metadata": {
  "name": "using_astropy_from_ipython"
 },
 "nbformat": 3,
 "nbformat_minor": 0,
 "worksheets": [
  {
   "cells": [
    {
     "cell_type": "heading",
     "level": 1,
     "metadata": {},
     "source": [
      "Data analysis / coding using Astropy from IPython"
     ]
    },
    {
     "cell_type": "markdown",
     "metadata": {},
     "source": [
      "The purpose of this tutorial is to showcase the IPython shell and notebook as a data analysis / coding environment\n",
      "\n",
      "* What is IPython shell / notebook\n",
      "* Why IPython for interactive data analysis / coding (Sherpa as example)\n",
      "* Tab completion\n",
      "* Use / limitations or ? and ?? to read docs / code\n",
      "* What is printed to the output (str and repr automatically called)\n",
      "* %whos\n",
      "* Understanding tracebacks\n",
      "* Advantages / disadvantages of pylab mode\n",
      "* Writing / timing / profiling a function in the notebook or in the shell\n",
      "\n",
      "* Links to other tutorials:\n",
      " * Brief tour of the IPython notebook tutorial [html](http://nbviewer.ipython.org/urls/raw.github.com/ipython/ipython/master/docs/examples/notebooks/00_notebook_tour.ipynb)\n",
      " * `babar_python_tutorial` ([code](https://github.com/piti118/babar_python_tutorial), [docs](http://piti118.github.com/babar_python_tutorial/))\n",
      " * Python4Astronomers ([code](https://github.com/python4astronomers/python4astronomers), [docs](http://python4astronomers.github.com))"
     ]
    },
    {
     "cell_type": "code",
     "collapsed": false,
     "input": [
      "import astropy"
     ],
     "language": "python",
     "metadata": {},
     "outputs": [],
     "prompt_number": 1
    },
    {
     "cell_type": "code",
     "collapsed": false,
     "input": [
      "# TODO: Need to add screenshot image here to illustrate how help is displayed\n",
      "astropy?"
     ],
     "language": "python",
     "metadata": {},
     "outputs": [],
     "prompt_number": 3
    },
    {
     "cell_type": "code",
     "collapsed": false,
     "input": [],
     "language": "python",
     "metadata": {},
     "outputs": []
    }
   ],
   "metadata": {}
  }
 ]
}